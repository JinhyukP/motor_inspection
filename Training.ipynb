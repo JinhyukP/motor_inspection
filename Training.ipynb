{
 "cells": [
  {
   "cell_type": "code",
   "execution_count": 1,
   "metadata": {},
   "outputs": [],
   "source": [
    "import numpy as np\n",
    "from time import time\n",
    "from matplotlib import pyplot as plt\n",
    "import pandas as pd\n",
    "from sklearn import datasets, metrics, svm\n",
    "import tensorflow as tf\n",
    "from tensorflow.keras.models import Sequential\n",
    "from tensorflow.keras.layers import Conv1D, Dense, Flatten, MaxPooling1D, Conv2D, Reshape\n",
    "from tensorflow.keras import losses, optimizers\n",
    "import os, sys, csv\n",
    "from tqdm import tqdm\n",
    "os.environ[\"CUDA_VISIBLE_DEVICES\"] = \"1\"\n",
    "\n",
    "import motor\n",
    "sys.path.append('../../')\n",
    "from data_loader import get_dataset, get_label"
   ]
  },
  {
   "cell_type": "markdown",
   "metadata": {},
   "source": [
    "hyperparameters"
   ]
  },
  {
   "cell_type": "code",
   "execution_count": null,
   "metadata": {},
   "outputs": [],
   "source": [
    "epoch_size = 200\n",
    "batch_size = 150\n",
    "repeat = 100"
   ]
  },
  {
   "cell_type": "markdown",
   "metadata": {},
   "source": [
    "### Load Data"
   ]
  },
  {
   "cell_type": "code",
   "execution_count": null,
   "metadata": {},
   "outputs": [],
   "source": [
    "# data_dim_MFCC = 13\n",
    "# trSampleRatio = 0.85\n",
    "# data_dim_CWT = 13\n",
    "# data_dim_DWT = 13\n",
    "data_dim_LPC = 13\n",
    "\n",
    "data_cfg = {\n",
    "    \"dataType\" : \"LPC\",\n",
    "    \"division\" : \"steady\",\n",
    "    \"dataDimension\" : data_dim_LPC\n",
    "}"
   ]
  },
  {
   "cell_type": "code",
   "execution_count": null,
   "metadata": {},
   "outputs": [],
   "source": [
    "data_whole = get_dataset(data_cfg)\n",
    "y_whole = get_label()"
   ]
  },
  {
   "cell_type": "markdown",
   "metadata": {},
   "source": [
    "### Build Classifier Model"
   ]
  },
  {
   "cell_type": "code",
   "execution_count": null,
   "metadata": {},
   "outputs": [],
   "source": [
    "def buildmodel(type, data_cfg):\n",
    "    if data_cfg[\"division\"] == \"both\":\n",
    "        n_features = 2\n",
    "    else:\n",
    "        n_features = 1\n",
    "    print(f'n_features is {n_features} (data_cfg[\"division\"] is \\\"{data_cfg[\"division\"]}\\\")')    \n",
    "    if type == \"CNN\":\n",
    "        n_channel = [16, 20, 30]\n",
    "        #with tf.device('/gpu:1'):\n",
    "        tf.keras.backend.clear_session()\n",
    "        model = Sequential()\n",
    "        model.add(Conv1D(filters = n_channel[0], kernel_size = 3, activation = 'relu', input_shape = [motor.data_dim_MFCC, n_features], padding = 'same'))\n",
    "        model.add(Conv1D(filters = n_channel[0], kernel_size = 3, activation = 'relu', padding = 'valid'))\n",
    "        model.add(Conv1D(filters = n_channel[0], kernel_size = 3, activation = 'relu', padding = 'valid'))\n",
    "        model.add(Flatten(name=\"feature_extraction\"))\n",
    "        model.add(Dense(1, activation = 'sigmoid'))\n",
    "\n",
    "        model.compile(loss = losses.mean_squared_error, optimizer = optimizers.Adam(0.001))\n",
    "\n",
    "        Wsave = model.get_weights()\n",
    "        return model, Wsave"
   ]
  },
  {
   "cell_type": "code",
   "execution_count": null,
   "metadata": {},
   "outputs": [
    {
     "name": "stdout",
     "output_type": "stream",
     "text": [
      "n_features is 1 (data_cfg[\"division\"] is \"transient\")\n",
      "Model: \"sequential\"\n",
      "_________________________________________________________________\n",
      "Layer (type)                 Output Shape              Param #   \n",
      "=================================================================\n",
      "conv1d (Conv1D)              (None, 13, 16)            64        \n",
      "_________________________________________________________________\n",
      "conv1d_1 (Conv1D)            (None, 11, 16)            784       \n",
      "_________________________________________________________________\n",
      "conv1d_2 (Conv1D)            (None, 9, 16)             784       \n",
      "_________________________________________________________________\n",
      "feature_extraction (Flatten) (None, 144)               0         \n",
      "_________________________________________________________________\n",
      "dense (Dense)                (None, 1)                 145       \n",
      "=================================================================\n",
      "Total params: 1,777\n",
      "Trainable params: 1,777\n",
      "Non-trainable params: 0\n",
      "_________________________________________________________________\n",
      "None\n"
     ]
    }
   ],
   "source": [
    "    model, Wsave = buildmodel(\"CNN\", data_cfg)\n",
    "    print(model.summary())"
   ]
  },
  {
   "cell_type": "code",
   "execution_count": null,
   "metadata": {},
   "outputs": [],
   "source": [
    "def get_AUC(y_trues, y_predictions):\n",
    "    fpr, tpr, thresholds = metrics.roc_curve(y_trues, y_predictions, pos_label=1)\n",
    "    AUC = metrics.auc(fpr, tpr)\n",
    "    return AUC, fpr, tpr"
   ]
  },
  {
   "cell_type": "code",
   "execution_count": null,
   "metadata": {},
   "outputs": [
    {
     "name": "stderr",
     "output_type": "stream",
     "text": [
      "100%|██████████| 100/100 [00:40<00:00,  2.50it/s]\n"
     ]
    }
   ],
   "source": [
    "AUCs = np.array([])\n",
    "for _ in tqdm(range(repeat)):\n",
    "    [train_data, train_label, test_data, test_label] = motor.resampleData(data_whole, y_whole)\n",
    "    model.set_weights(Wsave)\n",
    "    [y_predictions, y_trues] = motor.fitClassifier_y_pred(model, train_data,train_label,test_data,test_label, epoch_size, batch_size)\n",
    "    \n",
    "    AUC, fpr, tpr = get_AUC(y_trues, y_predictions)\n",
    "    AUCs = np.append(AUCs, AUC)"
   ]
  },
  {
   "cell_type": "code",
   "execution_count": null,
   "metadata": {},
   "outputs": [],
   "source": [
    "def plot_roc(fpr, tpr):\n",
    "    AUC = metrics.auc(fpr, tpr)\n",
    "    plt.figure()\n",
    "    lw = 2\n",
    "    plt.plot(fpr, tpr, color='darkorange',\n",
    "            lw=lw, label='ROC curve (area = %0.2f)' % AUC)\n",
    "    plt.plot([0, 1], [0, 1], color='navy', lw=lw, linestyle='--')\n",
    "    plt.xlim([0.0, 1.0])\n",
    "    plt.ylim([0.0, 1.05])\n",
    "    plt.xlabel('False Positive Rate')\n",
    "    plt.ylabel('True Positive Rate')\n",
    "    plt.title('Receiver operating characteristic example')\n",
    "    plt.legend(loc=\"lower right\")\n",
    "    plt.show()"
   ]
  },
  {
   "cell_type": "code",
   "execution_count": null,
   "metadata": {},
   "outputs": [
    {
     "name": "stdout",
     "output_type": "stream",
     "text": [
      "AUCs: [0.60833333 0.64166667 0.7        0.7        0.525      0.68333333\n",
      " 0.59166667 0.68333333 0.75833333 0.7        0.75833333 0.525\n",
      " 0.625      0.53333333 0.53333333 0.39166667 0.69166667 0.69166667\n",
      " 0.56666667 0.9        0.6        0.61666667 0.575      0.66666667\n",
      " 0.59166667 0.525      0.5        0.56666667 0.56666667 0.55\n",
      " 0.58333333 0.66666667 0.725      0.525      0.7        0.59166667\n",
      " 0.59166667 0.75       0.575      0.60833333 0.675      0.76666667\n",
      " 0.69166667 0.675      0.63333333 0.55833333 0.64166667 0.63333333\n",
      " 0.3        0.73333333 0.625      0.68333333 0.54166667 0.55833333\n",
      " 0.61666667 0.55833333 0.65       0.625      0.65833333 0.65833333\n",
      " 0.40833333 0.43333333 0.66666667 0.68333333 0.56666667 0.76666667\n",
      " 0.6        0.825      0.68333333 0.49166667 0.58333333 0.7\n",
      " 0.5        0.48333333 0.625      0.61666667 0.575      0.675\n",
      " 0.65       0.75       0.55833333 0.73333333 0.71666667 0.63333333\n",
      " 0.38333333 0.55833333 0.725      0.68333333 0.65       0.68333333\n",
      " 0.65833333 0.79166667 0.86666667 0.58333333 0.78333333 0.65833333\n",
      " 0.70833333 0.75833333 0.7        0.71666667]\n",
      "mean:0.6320000000000001  std:0.10001194373118086\n"
     ]
    }
   ],
   "source": [
    "print(\"AUCs:\", AUCs)\n",
    "print(\"mean:{}  std:{}\".format(np.mean(AUCs),np.std(AUCs)))"
   ]
  },
  {
   "cell_type": "code",
   "execution_count": null,
   "metadata": {},
   "outputs": [
    {
     "data": {
      "image/png": "[encoded data removed]",
      "text/plain": [
       "<Figure size 432x288 with 1 Axes>"
      ]
     },
     "metadata": {
      "needs_background": "light"
     },
     "output_type": "display_data"
    }
   ],
   "source": [
    "plot_roc(fpr, tpr)"
   ]
  },
  {
   "cell_type": "markdown",
   "metadata": {},
   "source": [
    "#### 1. not divided"
   ]
  },
  {
   "cell_type": "code",
   "execution_count": null,
   "metadata": {},
   "outputs": [],
   "source": [
    "# n_features = 1\n",
    "# data_whole = motor.load_MFCC_whole()\n",
    "# data_whole = motor.load_CWT_whole()"
   ]
  },
  {
   "cell_type": "markdown",
   "metadata": {},
   "source": [
    "#### 2. transient phase"
   ]
  },
  {
   "cell_type": "code",
   "execution_count": null,
   "metadata": {},
   "outputs": [],
   "source": [
    "# n_features = 1\n",
    "# data_whole = motor.load_MFCC_transient()\n",
    "# data_whole = motor.load_CWT_transient()"
   ]
  },
  {
   "cell_type": "markdown",
   "metadata": {},
   "source": [
    "#### 3. steady-state phase"
   ]
  },
  {
   "cell_type": "code",
   "execution_count": null,
   "metadata": {},
   "outputs": [],
   "source": [
    "# n_features = 1\n",
    "# data_whole = motor.load_MFCC_steady()"
   ]
  },
  {
   "cell_type": "markdown",
   "metadata": {},
   "source": [
    "#### 4. both transient & steady-state phase"
   ]
  },
  {
   "cell_type": "code",
   "execution_count": null,
   "metadata": {},
   "outputs": [],
   "source": [
    "# n_features = 2\n",
    "# data_MFCC_only_steady = motor.load_MFCC_steady()\n",
    "# data_MFCC_only_transient = motor.load_MFCC_transient()\n",
    "# data_whole = np.append(data_MFCC_only_steady, data_MFCC_only_transient, 1)"
   ]
  },
  {
   "cell_type": "code",
   "execution_count": null,
   "metadata": {},
   "outputs": [],
   "source": [
    "# model, Wsave = buildCNNmodel()"
   ]
  },
  {
   "cell_type": "markdown",
   "metadata": {},
   "source": [
    "### MLP classifier"
   ]
  },
  {
   "cell_type": "code",
   "execution_count": null,
   "metadata": {},
   "outputs": [],
   "source": [
    "# def buildMLPmodel():\n",
    "#     n_fc = [16, 8]\n",
    "#     #with tf.device('/gpu:1'):\n",
    "#     tf.keras.backend.clear_session()\n",
    "#     model = Sequential()\n",
    "\n",
    "#     model.add(Dense(n_fc[0], activation = 'relu', input_dim = motor.data_dim_MFCC * n_features))\n",
    "#     model.add(Dense(n_fc[0], activation = 'relu'))\n",
    "#     model.add(Dense(n_fc[0], activation = 'relu'))\n",
    "#     model.add(Dense(n_fc[0], activation = 'relu'))\n",
    "#     model.add(Dense(n_fc[1], activation = 'relu', name=\"feature_extraction\"))\n",
    "#     model.add(Dense(1, activation = 'sigmoid'))\n",
    "\n",
    "#     model.compile(loss = losses.mean_squared_error, optimizer = optimizers.Adam(0.001))\n",
    "\n",
    "#     Wsave = model.get_weights()\n",
    "#     print(model.summary())\n",
    "#     return model, Wsave"
   ]
  },
  {
   "cell_type": "code",
   "execution_count": null,
   "metadata": {},
   "outputs": [],
   "source": [
    "# model, Wsave = buildMLPmodel()"
   ]
  },
  {
   "cell_type": "markdown",
   "metadata": {},
   "source": [
    "### CNN training"
   ]
  },
  {
   "cell_type": "code",
   "execution_count": null,
   "metadata": {
    "scrolled": true
   },
   "outputs": [],
   "source": [
    "# AUCs = np.array([])\n",
    "# for _ in tqdm(range(repeat)):\n",
    "#     [train_data, train_label, test_data, test_label] = motor.resampleData(data_whole, y_whole)\n",
    "#     model.set_weights(Wsave)\n",
    "#     [y_predictions, y_trues] = motor.fitClassifier_y_pred(model, train_data,train_label,test_data,test_label, epoch_size, batch_size)\n",
    "    \n",
    "#     fpr, tpr, thresholds = metrics.roc_curve(y_trues, y_predictions, pos_label=1)\n",
    "#     AUC = metrics.auc(fpr, tpr)\n",
    "#     AUCs = np.append(AUCs, AUC)\n",
    "# #     [tp, tn, fp, fn] = fitClassifier_y_pred(train_data,train_label,test_data,test_label)\n",
    "    \n",
    "# #     print(\"true_positive: {:d}\".format(tp) + \"\\t true_negative: {:d}\".format(tn))\n",
    "# #     print(\"false_positive: {:d}\".format(fp) + \"\\t false_negative: {:d}\".format(fn))\n",
    "    \n",
    "# #     tp_tot += tp; tn_tot += tn; fp_tot += fp; fn_tot += fn"
   ]
  },
  {
   "cell_type": "markdown",
   "metadata": {},
   "source": [
    "### MLP training"
   ]
  },
  {
   "cell_type": "code",
   "execution_count": null,
   "metadata": {},
   "outputs": [],
   "source": [
    "# AUCs = np.array([])\n",
    "# for repeat in range(100):\n",
    "#     [train_data, train_label, test_data, test_label] = motor.resampleData(data_whole, y_whole)\n",
    "#     model.set_weights(Wsave)\n",
    "#     [y_predictions, y_trues] = motor.fitClassifier_y_pred_MLP(model, train_data,train_label,test_data,test_label, epoch_size, batch_size)\n",
    "    \n",
    "#     fpr, tpr, thresholds = metrics.roc_curve(y_trues, y_predictions, pos_label=1)\n",
    "#     AUC = metrics.auc(fpr, tpr)\n",
    "#     AUCs = np.append(AUCs, AUC)"
   ]
  },
  {
   "cell_type": "markdown",
   "metadata": {},
   "source": [
    "### SVM training"
   ]
  },
  {
   "cell_type": "code",
   "execution_count": null,
   "metadata": {},
   "outputs": [],
   "source": [
    "# AUCs = np.array([])\n",
    "# for repeat in range(100):\n",
    "#     [train_data, train_label, test_data, test_label] = motor.resampleData(data_whole, y_whole)\n",
    "    \n",
    "#     clf = svm.SVC(random_state=0, probability=True)\n",
    "#     clf.fit(train_data, train_label)\n",
    "    \n",
    "\n",
    "#     y_predictions = clf.predict(test_data)\n",
    "#     y_predict_proba = clf.predict_proba(test_data)\n",
    "#     fpr, tpr, thresholds = metrics.roc_curve(test_label, y_predict_proba[:,1], pos_label=1)\n",
    "#     AUC = metrics.auc(fpr, tpr)\n",
    "#     AUCs = np.append(AUCs, AUC)    \n",
    "    \n",
    "# metrics.plot_roc_curve(clf, test_data, test_label)  \n",
    "    \n",
    "# plt.figure()\n",
    "# lw = 2\n",
    "# plt.plot(fpr, tpr, color='darkorange',\n",
    "#          lw=lw, label='ROC curve (area = %0.2f)' % AUC)\n",
    "# plt.plot([0, 1], [0, 1], color='navy', lw=lw, linestyle='--')\n",
    "# plt.xlim([0.0, 1.0])\n",
    "# plt.ylim([0.0, 1.05])\n",
    "# plt.xlabel('False Positive Rate')\n",
    "# plt.ylabel('True Positive Rate')\n",
    "# plt.title('Receiver operating characteristic example')\n",
    "# plt.legend(loc=\"lower right\")\n",
    "# plt.show()"
   ]
  },
  {
   "cell_type": "code",
   "execution_count": null,
   "metadata": {},
   "outputs": [],
   "source": [
    "# print(train_label)\n",
    "# train_prediction = clf.predict(train_data)\n",
    "# print(train_prediction)\n",
    "# print(y_predict_proba)\n",
    "# print(test_label)\n",
    "# print(y_predictions)"
   ]
  },
  {
   "cell_type": "code",
   "execution_count": null,
   "metadata": {},
   "outputs": [],
   "source": []
  },
  {
   "cell_type": "code",
   "execution_count": null,
   "metadata": {},
   "outputs": [],
   "source": []
  },
  {
   "cell_type": "code",
   "execution_count": null,
   "metadata": {},
   "outputs": [],
   "source": []
  },
  {
   "cell_type": "code",
   "execution_count": null,
   "metadata": {
    "scrolled": true
   },
   "outputs": [],
   "source": [
    "# print(\"true_positive: {:d}\".format(tp_tot) + \"\\t true_negative: {:d}\".format(tn_tot))\n",
    "# print(\"false_positive: {:d}\".format(fp_tot) + \"\\t false_negative: {:d}\".format(fn_tot))"
   ]
  },
  {
   "cell_type": "code",
   "execution_count": null,
   "metadata": {},
   "outputs": [],
   "source": [
    "# fpr, tpr, thresholds = metrics.roc_curve(y_trues, y_predictions, pos_label=1)\n",
    "# metrics.auc(fpr, tpr)"
   ]
  },
  {
   "cell_type": "code",
   "execution_count": null,
   "metadata": {},
   "outputs": [
    {
     "data": {
      "image/png": "[encoded data removed]",
      "text/plain": [
       "<Figure size 432x288 with 1 Axes>"
      ]
     },
     "metadata": {
      "needs_background": "light"
     },
     "output_type": "display_data"
    }
   ],
   "source": [
    "plt.figure()\n",
    "lw = 2\n",
    "plt.plot(fpr, tpr, color='darkorange',\n",
    "         lw=lw, label='ROC curve (area = %0.2f)' % AUC)\n",
    "plt.plot([0, 1], [0, 1], color='navy', lw=lw, linestyle='--')\n",
    "plt.xlim([0.0, 1.0])\n",
    "plt.ylim([0.0, 1.05])\n",
    "plt.xlabel('False Positive Rate')\n",
    "plt.ylabel('True Positive Rate')\n",
    "plt.title('Receiver operating characteristic example')\n",
    "plt.legend(loc=\"lower right\")\n",
    "plt.show()"
   ]
  },
  {
   "cell_type": "code",
   "execution_count": null,
   "metadata": {},
   "outputs": [
    {
     "data": {
      "text/plain": [
       "array([0.        , 0.        , 0.        , 0.4       , 0.4       ,\n",
       "       0.86666667, 0.86666667, 1.        , 1.        ])"
      ]
     },
     "execution_count": 26,
     "metadata": {},
     "output_type": "execute_result"
    }
   ],
   "source": [
    "fpr"
   ]
  },
  {
   "cell_type": "code",
   "execution_count": null,
   "metadata": {},
   "outputs": [
    {
     "data": {
      "text/plain": [
       "array([0.   , 0.125, 0.625, 0.625, 0.75 , 0.75 , 0.875, 0.875, 1.   ])"
      ]
     },
     "execution_count": 27,
     "metadata": {},
     "output_type": "execute_result"
    }
   ],
   "source": [
    "tpr"
   ]
  },
  {
   "cell_type": "code",
   "execution_count": null,
   "metadata": {},
   "outputs": [
    {
     "ename": "NameError",
     "evalue": "name 'thresholds' is not defined",
     "output_type": "error",
     "traceback": [
      "\u001b[0;31m---------------------------------------------------------------------------\u001b[0m",
      "\u001b[0;31mNameError\u001b[0m                                 Traceback (most recent call last)",
      "\u001b[0;32m<ipython-input-28-8fd69dc90be8>\u001b[0m in \u001b[0;36m<module>\u001b[0;34m\u001b[0m\n\u001b[0;32m----> 1\u001b[0;31m \u001b[0mthresholds\u001b[0m\u001b[0;34m\u001b[0m\u001b[0;34m\u001b[0m\u001b[0m\n\u001b[0m",
      "\u001b[0;31mNameError\u001b[0m: name 'thresholds' is not defined"
     ]
    }
   ],
   "source": [
    "thresholds"
   ]
  },
  {
   "cell_type": "code",
   "execution_count": null,
   "metadata": {},
   "outputs": [],
   "source": [
    "# metrics.plot_roc_curve(clf, X_test, y_test)  \n",
    "# plt.show()                           "
   ]
  },
  {
   "cell_type": "code",
   "execution_count": null,
   "metadata": {},
   "outputs": [],
   "source": []
  },
  {
   "cell_type": "code",
   "execution_count": null,
   "metadata": {},
   "outputs": [],
   "source": []
  },
  {
   "cell_type": "code",
   "execution_count": null,
   "metadata": {},
   "outputs": [],
   "source": []
  },
  {
   "cell_type": "markdown",
   "metadata": {},
   "source": [
    "### feature extracted at the last layer"
   ]
  },
  {
   "cell_type": "code",
   "execution_count": null,
   "metadata": {},
   "outputs": [],
   "source": [
    "# # output of last layer\n",
    "# feature_extractor = tf.keras.Model(\n",
    "#     inputs=model.inputs,\n",
    "#     outputs=model.get_layer(name=\"feature_extraction\").output,\n",
    "# )\n",
    "\n",
    "# train_features = feature_extractor(np.transpose(np.reshape(train_data, [-1, n_features, motor.data_dim_MFCC]), [0, 2, 1]))\n",
    "# test_features = feature_extractor(np.transpose(np.reshape(test_data, [-1, n_features, motor.data_dim_MFCC]), [0, 2, 1]))\n",
    "# whole_features = feature_extractor(np.transpose(np.reshape(data_whole, [-1, n_features, motor.data_dim_MFCC]), [0, 2, 1]))"
   ]
  },
  {
   "cell_type": "code",
   "execution_count": null,
   "metadata": {},
   "outputs": [],
   "source": [
    "# whole_features"
   ]
  },
  {
   "cell_type": "code",
   "execution_count": null,
   "metadata": {},
   "outputs": [],
   "source": [
    "# train_features"
   ]
  },
  {
   "cell_type": "code",
   "execution_count": null,
   "metadata": {},
   "outputs": [],
   "source": [
    "# train_label"
   ]
  },
  {
   "cell_type": "code",
   "execution_count": null,
   "metadata": {
    "scrolled": true
   },
   "outputs": [],
   "source": [
    "# test_features"
   ]
  },
  {
   "cell_type": "code",
   "execution_count": null,
   "metadata": {},
   "outputs": [],
   "source": [
    "# test_label"
   ]
  },
  {
   "cell_type": "code",
   "execution_count": null,
   "metadata": {},
   "outputs": [],
   "source": [
    "# np.savetxt(\"feature_extraction_MFCConly_whole.txt\",whole_features)"
   ]
  },
  {
   "cell_type": "code",
   "execution_count": null,
   "metadata": {},
   "outputs": [],
   "source": []
  },
  {
   "cell_type": "code",
   "execution_count": null,
   "metadata": {},
   "outputs": [],
   "source": []
  },
  {
   "cell_type": "code",
   "execution_count": null,
   "metadata": {},
   "outputs": [],
   "source": [
    "# # Make a model with 2 layers\n",
    "# layer1 = tf.keras.layers.Dense(3, activation=\"relu\")\n",
    "# layer2 = tf.keras.layers.Dense(3, activation=\"sigmoid\")\n",
    "# model = tf.keras.Sequential([tf.keras.Input(shape=(3,)), layer1, layer2])\n",
    "\n",
    "# # Freeze the first layer\n",
    "# layer1.trainable = False\n",
    "\n",
    "# print(\"weights:\", len(layer1.weights))\n",
    "# print(\"trainable_weights:\", len(layer1.trainable_weights))\n",
    "# print(\"non_trainable_weights:\", len(layer1.non_trainable_weights))\n",
    "\n",
    "# # Keep a copy of the weights of layer1 for later reference\n",
    "# initial_layer1_weights_values = layer1.get_weights()\n",
    "\n",
    "# # Train the model\n",
    "# model.compile(optimizer=\"adam\", loss=\"mse\")\n",
    "# model.fit(np.random.random((2, 3)), np.random.random((2, 3)))\n",
    "\n",
    "# # Check that the weights of layer1 have not changed during training\n",
    "# final_layer1_weights_values = layer1.get_weights()\n",
    "# np.testing.assert_allclose(\n",
    "#     initial_layer1_weights_values[0], final_layer1_weights_values[0]\n",
    "# )\n",
    "# np.testing.assert_allclose(\n",
    "#     initial_layer1_weights_values[1], final_layer1_weights_values[1]\n",
    "# )"
   ]
  },
  {
   "cell_type": "code",
   "execution_count": null,
   "metadata": {},
   "outputs": [],
   "source": []
  },
  {
   "cell_type": "code",
   "execution_count": null,
   "metadata": {},
   "outputs": [],
   "source": []
  },
  {
   "cell_type": "code",
   "execution_count": null,
   "metadata": {},
   "outputs": [],
   "source": []
  },
  {
   "cell_type": "code",
   "execution_count": null,
   "metadata": {},
   "outputs": [],
   "source": []
  },
  {
   "cell_type": "code",
   "execution_count": null,
   "metadata": {},
   "outputs": [],
   "source": []
  },
  {
   "cell_type": "code",
   "execution_count": null,
   "metadata": {},
   "outputs": [],
   "source": []
  },
  {
   "cell_type": "code",
   "execution_count": null,
   "metadata": {},
   "outputs": [],
   "source": [
    "# plot SVM\n",
    "\n",
    "# svm.__dict__"
   ]
  },
  {
   "cell_type": "code",
   "execution_count": null,
   "metadata": {},
   "outputs": [],
   "source": []
  }
 ],
 "metadata": {
  "interpreter": {
   "hash": "4be9b5c909fbb1a45d461955f142e7b18badc7c6d8a6812f1464c3f2e52537c4"
  },
  "kernelspec": {
   "display_name": "Python 3.6.10 64-bit ('jh_tf_gpu': conda)",
   "name": "python3"
  },
  "language_info": {
   "codemirror_mode": {
    "name": "ipython",
    "version": 3
   },
   "file_extension": ".py",
   "mimetype": "text/x-python",
   "name": "python",
   "nbconvert_exporter": "python",
   "pygments_lexer": "ipython3",
   "version": "3.6.10"
  }
 },
 "nbformat": 4,
 "nbformat_minor": 4
}
